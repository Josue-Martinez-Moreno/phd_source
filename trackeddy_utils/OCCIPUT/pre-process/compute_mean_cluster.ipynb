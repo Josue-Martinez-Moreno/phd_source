{
 "cells": [
  {
   "cell_type": "code",
   "execution_count": 2,
   "metadata": {},
   "outputs": [],
   "source": [
    "import xarray as xr\n",
    "import numpy as np\n",
    "from scipy.interpolate import griddata\n",
    "from dask.distributed import Client\n",
    "from dask_jobqueue import PBSCluster\n",
    "\n",
    "import os\n",
    "%matplotlib inline"
   ]
  },
  {
   "cell_type": "code",
   "execution_count": 2,
   "metadata": {},
   "outputs": [],
   "source": [
    "import socket\n",
    "import fcntl\n",
    "import struct\n",
    "def get_interface_ip(ifname):\n",
    "    s = socket.socket(socket.AF_INET, socket.SOCK_DGRAM)\n",
    "    return socket.inet_ntoa(fcntl.ioctl(\n",
    "            s.fileno(),\n",
    "            0x8915,\n",
    "            struct.pack('256s', bytes(ifname[:15], 'utf-8'))\n",
    "        )[20:24])"
   ]
  },
  {
   "cell_type": "code",
   "execution_count": 3,
   "metadata": {},
   "outputs": [
    {
     "data": {
      "application/vnd.jupyter.widget-view+json": {
       "model_id": "4164be5a084e48d5a4845e613ed359bf",
       "version_major": 2,
       "version_minor": 0
      },
      "text/plain": [
       "VBox(children=(HTML(value='<h2>PBSCluster</h2>'), HBox(children=(HTML(value='\\n<div>\\n  <style scoped>\\n    .d…"
      ]
     },
     "metadata": {},
     "output_type": "display_data"
    }
   ],
   "source": [
    "cluster = PBSCluster(cores=8, memory='50 GB', ip=get_interface_ip('ib0'), dashboard_address=get_interface_ip('vlan192'))\n",
    "cluster"
   ]
  },
  {
   "cell_type": "code",
   "execution_count": 4,
   "metadata": {},
   "outputs": [
    {
     "data": {
      "text/html": [
       "<table style=\"border: 2px solid white;\">\n",
       "<tr>\n",
       "<td style=\"vertical-align: top; border: 0px solid white\">\n",
       "<h3>Client</h3>\n",
       "<ul>\n",
       "  <li><b>Scheduler: </b>tcp://10.9.105.1:43442\n",
       "  <li><b>Dashboard: </b><a href='http://10.9.105.1:8787/status' target='_blank'>http://10.9.105.1:8787/status</a>\n",
       "</ul>\n",
       "</td>\n",
       "<td style=\"vertical-align: top; border: 0px solid white\">\n",
       "<h3>Cluster</h3>\n",
       "<ul>\n",
       "  <li><b>Workers: </b>0</li>\n",
       "  <li><b>Cores: </b>0</li>\n",
       "  <li><b>Memory: </b>0 B</li>\n",
       "</ul>\n",
       "</td>\n",
       "</tr>\n",
       "</table>"
      ],
      "text/plain": [
       "<Client: scheduler='tcp://10.9.105.1:43442' processes=0 cores=0>"
      ]
     },
     "execution_count": 4,
     "metadata": {},
     "output_type": "execute_result"
    }
   ],
   "source": [
    "client = Client(cluster)\n",
    "client"
   ]
  },
  {
   "cell_type": "code",
   "execution_count": 5,
   "metadata": {},
   "outputs": [],
   "source": [
    "cluster.job_header = '#!/usr/bin/env bash\\n#PBS -N dask-worker\\n#PBS -q expressbw\\n#PBS -l ncpus=8\\n#PBS -l mem=50GB\\n#PBS -l walltime=00:30:00\\nJOB_ID=${PBS_JOBID%.*}'"
   ]
  },
  {
   "cell_type": "code",
   "execution_count": 6,
   "metadata": {},
   "outputs": [],
   "source": [
    "path='/g/data1a/x77/amh157/OCCIPUT/SSH_ENSEMBLE_all/ORCA025.L75-OCCITENS.{0:03}-S/1d/'"
   ]
  },
  {
   "cell_type": "code",
   "execution_count": 7,
   "metadata": {},
   "outputs": [],
   "source": [
    "cluster.scale(10)"
   ]
  },
  {
   "cell_type": "code",
   "execution_count": 8,
   "metadata": {},
   "outputs": [],
   "source": [
    "output='/home/156/jm5970/data/trackeddy_output/OCCIPUT/pre-processing'"
   ]
  },
  {
   "cell_type": "code",
   "execution_count": 9,
   "metadata": {},
   "outputs": [],
   "source": [
    "ii=23\n",
    "ncfiles = sorted([os.path.join(path.format(ii), f) for f in os.listdir(path.format(ii)) if os.path.isfile(os.path.join(path.format(ii), f))])"
   ]
  },
  {
   "cell_type": "code",
   "execution_count": 10,
   "metadata": {},
   "outputs": [],
   "source": [
    "counter=0\n",
    "for file in ncfiles:\n",
    "    if counter==0:\n",
    "        data0 = xr.open_dataset(file,chunks={'time_counter':100, 'y':510, 'x':721}).drop('nav_lat').drop('nav_lon')\n",
    "        counter=1\n",
    "    else:\n",
    "        data1 = xr.open_dataset(file,chunks={'time_counter':100, 'y':510, 'x':721}).drop('nav_lat').drop('nav_lon')\n",
    "        data0 = xr.concat([data0,data1],dim='time_counter')"
   ]
  },
  {
   "cell_type": "code",
   "execution_count": 11,
   "metadata": {},
   "outputs": [],
   "source": [
    "data_coord = xr.open_dataset(file,chunks={'time_counter':100, 'y':510, 'x':721})"
   ]
  },
  {
   "cell_type": "code",
   "execution_count": 12,
   "metadata": {},
   "outputs": [
    {
     "data": {
      "text/plain": [
       "<xarray.Dataset>\n",
       "Dimensions:               (time_bounds: 2, time_counter: 7670, x: 1442, y: 1021)\n",
       "Coordinates:\n",
       "    time_centered         (time_counter) datetime64[ns] dask.array<shape=(7670,), chunksize=(100,)>\n",
       "  * time_counter          (time_counter) datetime64[ns] 1995-01-01T12:00:00 ... 2015-12-31T12:00:00\n",
       "Dimensions without coordinates: time_bounds, x, y\n",
       "Data variables:\n",
       "    time_centered_bounds  (time_counter, time_bounds) datetime64[ns] dask.array<shape=(7670, 2), chunksize=(100, 2)>\n",
       "    time_counter_bounds   (time_counter, time_bounds) datetime64[ns] dask.array<shape=(7670, 2), chunksize=(100, 2)>\n",
       "    ssh                   (time_counter, y, x) float32 dask.array<shape=(7670, 1021, 1442), chunksize=(100, 510, 721)>\n",
       "Attributes:\n",
       "    description:               ocean T grid variables\n",
       "    conventions:               CF-1.1\n",
       "    production:                An IPSL model\n",
       "    start_date:                19600101\n",
       "    output_frequency:          1d\n",
       "    CONFIG:                    ORCA025.L75\n",
       "    CASE:                      OCCITENS.023\n",
       "    history:                   Wed Mar 27 12:16:07 2019: ncrcat -4 -L1 -v ssh...\n",
       "    NCO:                       \"4.6.0\"\n",
       "    nco_openmp_thread_number:  1"
      ]
     },
     "execution_count": 12,
     "metadata": {},
     "output_type": "execute_result"
    }
   ],
   "source": [
    "data0"
   ]
  },
  {
   "cell_type": "code",
   "execution_count": 13,
   "metadata": {},
   "outputs": [],
   "source": [
    "data_t=data0.assign_coords(nav_lat=data_coord.nav_lat)"
   ]
  },
  {
   "cell_type": "code",
   "execution_count": 14,
   "metadata": {
    "scrolled": true
   },
   "outputs": [
    {
     "data": {
      "text/plain": [
       "<xarray.Dataset>\n",
       "Dimensions:               (time_bounds: 2, time_counter: 7670, x: 1442, y: 1021)\n",
       "Coordinates:\n",
       "    time_centered         (time_counter) datetime64[ns] dask.array<shape=(7670,), chunksize=(100,)>\n",
       "  * time_counter          (time_counter) datetime64[ns] 1995-01-01T12:00:00 ... 2015-12-31T12:00:00\n",
       "    nav_lon               (y, x) float32 dask.array<shape=(1021, 1442), chunksize=(510, 721)>\n",
       "    nav_lat               (y, x) float32 dask.array<shape=(1021, 1442), chunksize=(510, 721)>\n",
       "Dimensions without coordinates: time_bounds, x, y\n",
       "Data variables:\n",
       "    time_centered_bounds  (time_counter, time_bounds) datetime64[ns] dask.array<shape=(7670, 2), chunksize=(100, 2)>\n",
       "    time_counter_bounds   (time_counter, time_bounds) datetime64[ns] dask.array<shape=(7670, 2), chunksize=(100, 2)>\n",
       "    ssh                   (time_counter, y, x) float32 dask.array<shape=(7670, 1021, 1442), chunksize=(100, 510, 721)>\n",
       "Attributes:\n",
       "    description:               ocean T grid variables\n",
       "    conventions:               CF-1.1\n",
       "    production:                An IPSL model\n",
       "    start_date:                19600101\n",
       "    output_frequency:          1d\n",
       "    CONFIG:                    ORCA025.L75\n",
       "    CASE:                      OCCITENS.023\n",
       "    history:                   Wed Mar 27 12:16:07 2019: ncrcat -4 -L1 -v ssh...\n",
       "    NCO:                       \"4.6.0\"\n",
       "    nco_openmp_thread_number:  1"
      ]
     },
     "execution_count": 14,
     "metadata": {},
     "output_type": "execute_result"
    }
   ],
   "source": [
    "data_t"
   ]
  },
  {
   "cell_type": "code",
   "execution_count": 15,
   "metadata": {},
   "outputs": [],
   "source": [
    "ssh_mean=data_t.ssh.mean(dim=\"time_counter\").compute()"
   ]
  },
  {
   "cell_type": "code",
   "execution_count": 16,
   "metadata": {},
   "outputs": [
    {
     "data": {
      "text/plain": [
       "<matplotlib.collections.QuadMesh at 0x7fe46f27b4e0>"
      ]
     },
     "execution_count": 16,
     "metadata": {},
     "output_type": "execute_result"
    },
    {
     "data": {
      "image/png": "[encoded data removed]",
      "text/plain": [
       "<Figure size 432x288 with 2 Axes>"
      ]
     },
     "metadata": {
      "needs_background": "light"
     },
     "output_type": "display_data"
    }
   ],
   "source": [
    "ssh_mean.plot()"
   ]
  },
  {
   "cell_type": "code",
   "execution_count": 17,
   "metadata": {},
   "outputs": [],
   "source": [
    "ssh_mean.to_netcdf('/home/156/jm5970/data/trackeddy_output/OCCIPUT/pre-processing/non-interp_ORCA025.L75-OCCITENS.043_y_mean.nc')"
   ]
  },
  {
   "cell_type": "code",
   "execution_count": 18,
   "metadata": {},
   "outputs": [
    {
     "name": "stdout",
     "output_type": "stream",
     "text": [
      "(1021, 1442)\n"
     ]
    }
   ],
   "source": [
    "print(data_t.nav_lon.shape)\n",
    "if len(data_t.nav_lon.shape)==3:\n",
    "    lat=data_t.nav_lat.isel(time_counter=0).values\n",
    "    lon=data_t.nav_lon.isel(time_counter=0).values\n",
    "else:\n",
    "    lon=data_t.nav_lon.values\n",
    "    lat=data_t.nav_lat.values"
   ]
  },
  {
   "cell_type": "code",
   "execution_count": 19,
   "metadata": {},
   "outputs": [
    {
     "name": "stdout",
     "output_type": "stream",
     "text": [
      "(1021, 1442)\n"
     ]
    }
   ],
   "source": [
    "x=np.linspace(-180,180,np.shape(lon)[1])\n",
    "y=np.linspace(-90,90,np.shape(lon)[0])\n",
    "X,Y=np.meshgrid(x,y)\n",
    "print(ssh_mean.shape)\n"
   ]
  },
  {
   "cell_type": "code",
   "execution_count": null,
   "metadata": {},
   "outputs": [],
   "source": [
    "interp_data=griddata((lon.ravel(),lat.ravel()),ssh_mean.values.ravel(),(X,Y),'linear')"
   ]
  },
  {
   "cell_type": "code",
   "execution_count": null,
   "metadata": {},
   "outputs": [],
   "source": [
    "print('Data interpolated')\n",
    "mean_ssh['ssh']=(('y','x'), interp_data) \n",
    "mean_ssh['nav_lat']=('y',y)\n",
    "mean_ssh['nav_lon']=('x',x)\n",
    "mean_ssh.ssh.to_netcdf(output_path+'ORCA025.L75-OCCITENS.{0:03}_y_mean.nc'.format(ii))"
   ]
  },
  {
   "cell_type": "code",
   "execution_count": null,
   "metadata": {},
   "outputs": [
    {
     "name": "stdout",
     "output_type": "stream",
     "text": [
      "/g/data1a/x77/amh157/OCCIPUT/SSH_ENSEMBLE_all/ORCA025.L75-OCCITENS.023-S/1d/ORCA025.L75-OCCITENS.023_y*.1d_SSH.nc\n"
     ]
    }
   ],
   "source": [
    "for ii in range(23,50):\n",
    "    print((path+\"ORCA025.L75-OCCITENS.{0:03}_y*.1d_SSH.nc\").format(ii))\n",
    "    data = xr.open_mfdataset((path+\"ORCA025.L75-OCCITENS.{0:03}_y*.1d_SSH.nc\").format(ii),coords='minimal',chunks={'time_counter':100, 'y':510, 'x':721}).ssh.drop('nav_lat').drop('nav_lon')\n",
    "    mean_ssh=data.ssh.mean(dim=\"time_counter\").compute()\n",
    "    mean_ssh.to_netcdf((output+'ORCA025.L75-OCCITENS.{0:03}_y_mean.nc').format(ii))\n",
    "    #lon=data.nav_lon.values\n",
    "    #lat=data.nav_lat.values"
   ]
  },
  {
   "cell_type": "code",
   "execution_count": null,
   "metadata": {},
   "outputs": [],
   "source": [
    "data"
   ]
  },
  {
   "cell_type": "code",
   "execution_count": 1,
   "metadata": {},
   "outputs": [
    {
     "ename": "NameError",
     "evalue": "name 'client' is not defined",
     "output_type": "error",
     "traceback": [
      "\u001b[0;31m---------------------------------------------------------------------------\u001b[0m",
      "\u001b[0;31mNameError\u001b[0m                                 Traceback (most recent call last)",
      "\u001b[0;32m<ipython-input-1-27dde07d251f>\u001b[0m in \u001b[0;36m<module>\u001b[0;34m()\u001b[0m\n\u001b[0;32m----> 1\u001b[0;31m \u001b[0mclient\u001b[0m\u001b[0;34m.\u001b[0m\u001b[0mclose\u001b[0m\u001b[0;34m(\u001b[0m\u001b[0;34m)\u001b[0m\u001b[0;34m\u001b[0m\u001b[0;34m\u001b[0m\u001b[0m\n\u001b[0m\u001b[1;32m      2\u001b[0m \u001b[0mcluster\u001b[0m\u001b[0;34m.\u001b[0m\u001b[0mclose\u001b[0m\u001b[0;34m(\u001b[0m\u001b[0;34m)\u001b[0m\u001b[0;34m\u001b[0m\u001b[0;34m\u001b[0m\u001b[0m\n",
      "\u001b[0;31mNameError\u001b[0m: name 'client' is not defined"
     ]
    }
   ],
   "source": [
    "client.close()\n",
    "cluster.close()"
   ]
  },
  {
   "cell_type": "code",
   "execution_count": null,
   "metadata": {},
   "outputs": [],
   "source": [
    "1021/2"
   ]
  },
  {
   "cell_type": "code",
   "execution_count": 8,
   "metadata": {},
   "outputs": [],
   "source": [
    "ii=1\n",
    "data = xr.open_mfdataset((path+\"ORCA025.L75-OCCITENS.{0:03}_y*.1d_SSH.nc\").format(ii),chunks={'time_counter':365, 'y':510, 'x':721})"
   ]
  },
  {
   "cell_type": "code",
   "execution_count": 10,
   "metadata": {},
   "outputs": [],
   "source": [
    "lat=data.nav_lat.values"
   ]
  },
  {
   "cell_type": "code",
   "execution_count": 14,
   "metadata": {},
   "outputs": [
    {
     "data": {
      "text/plain": [
       "<matplotlib.collections.QuadMesh at 0x7f24367e8c18>"
      ]
     },
     "execution_count": 14,
     "metadata": {},
     "output_type": "execute_result"
    },
    {
     "data": {
      "image/png": "[encoded data removed]",
      "text/plain": [
       "<Figure size 432x288 with 1 Axes>"
      ]
     },
     "metadata": {
      "needs_background": "light"
     },
     "output_type": "display_data"
    }
   ],
   "source": [
    "plt.pcolormesh(lat)"
   ]
  },
  {
   "cell_type": "code",
   "execution_count": 13,
   "metadata": {},
   "outputs": [],
   "source": [
    "import pylab as plt"
   ]
  },
  {
   "cell_type": "code",
   "execution_count": 1,
   "metadata": {},
   "outputs": [
    {
     "data": {
      "text/plain": [
       "7300"
      ]
     },
     "execution_count": 1,
     "metadata": {},
     "output_type": "execute_result"
    }
   ],
   "source": [
    "365*20\n"
   ]
  },
  {
   "cell_type": "code",
   "execution_count": null,
   "metadata": {},
   "outputs": [],
   "source": []
  }
 ],
 "metadata": {
  "kernelspec": {
   "display_name": "Python [conda env:track_env]",
   "language": "python",
   "name": "conda-env-track_env-py"
  },
  "language_info": {
   "codemirror_mode": {
    "name": "ipython",
    "version": 3
   },
   "file_extension": ".py",
   "mimetype": "text/x-python",
   "name": "python",
   "nbconvert_exporter": "python",
   "pygments_lexer": "ipython3",
   "version": "3.6.8"
  }
 },
 "nbformat": 4,
 "nbformat_minor": 2
}
